{
 "cells": [
  {
   "cell_type": "markdown",
   "id": "2aa8dbf8",
   "metadata": {},
   "source": [
    "Date of Implementation: 26/06/2025<br>\n",
    "Date of Submission: 26/06/2025\n",
    "\n",
    "<center><h3>Lab 2: Edit Distance and Applications</h3></center>"
   ]
  },
  {
   "cell_type": "markdown",
   "id": "9a1d9070",
   "metadata": {},
   "source": [
    "**Question 1. Edit distance (Manual)<br>**\n",
    "2.4 Compute the edit distance (using insertion cost 1, deletion cost 1, substitution cost 1) of “leda” to “deal”. Prepare an edit distance grid to complete your work.<br>\n",
    "<u>Program Description</u>\n",
    "- Our aim is to compute the edit distance between two strings\n",
    "- Program Logic\n",
    "    - Create a matrix to hold distances.\n",
    "    - Fill the first row and column with increasing numbers starting from zero.\n",
    "    - Fill the matrix by comparing characters and applying edit operations.\n",
    "    - The value in the matrix gives you the edit distance.<br>"
   ]
  },
  {
   "cell_type": "markdown",
   "id": "068a9b73",
   "metadata": {},
   "source": [
    "<img src=\"img1.jpg\" alt=\"My Image\" width=\"500\"/>"
   ]
  },
  {
   "cell_type": "markdown",
   "id": "81ce98ee",
   "metadata": {},
   "source": [
    "2.5  Figure out whether the “drive” is closer to “brief” or to “divers” and what the edit distance is to each. You may use any version of distance that you like. your work.<br>\n",
    "<u>Program Description</u>\n",
    "- Using 'levenshtein distance' we compare the distance between drive and brief to drive and divers.\n",
    "- Program Logic\n",
    "    - Create a matrix to hold distances.\n",
    "    - Fill the first row and column with increasing numbers starting from zero.\n",
    "    - Fill the matrix by comparing characters and applying edit operations.\n",
    "    - The value in the matrix gives you the edit distance."
   ]
  },
  {
   "cell_type": "markdown",
   "id": "6598a027",
   "metadata": {},
   "source": [
    "<p style=\"display: flex; gap: 10px;\">\n",
    "  <img src=\"img2.jpg\" alt=\"Image 1\" width=\"400\"/>\n",
    "  <img src=\"img3.jpg\" alt=\"Image 2\" width=\"400\"/>\n",
    "</p>"
   ]
  },
  {
   "cell_type": "markdown",
   "id": "29a3b161",
   "metadata": {},
   "source": [
    "**Question 2. Edit distance (Implementation)<br>**\n",
    "2.6 Implement a minimum edit distance algorithm and use your hand-computed results to check your code..<br>\n"
   ]
  },
  {
   "cell_type": "markdown",
   "id": "c5663dba",
   "metadata": {},
   "source": [
    "<u>Program Description</u>\n",
    "- Our aim is to compute the edit distance between two strings\n"
   ]
  },
  {
   "cell_type": "markdown",
   "id": "c0c7a5d0",
   "metadata": {},
   "source": [
    "<u>Program Logic:</u>\n",
    "- Libraries used: numpy\n",
    "- FLow of the program\n",
    "    - Create a matrix to hold distances.\n",
    "    - Initialize the first row and column with increasing numbers.\n",
    "    - Fill the matrix by comparing characters and applying edit operations.\n",
    "    - Print the matrix after each row is filled.\n",
    "    - Return the final edit distance."
   ]
  },
  {
   "cell_type": "markdown",
   "id": "8df2db82",
   "metadata": {},
   "source": [
    "<u>Test Cases</u><br>\n",
    "- Case 1: <br>\n",
    "    - str1 = \"apple\"\n",
    "    - str2 = \"apple\"\n",
    "    - Expected Output: 0\n",
    "- Case 2: <br>\n",
    "    - str1 = \"apple\"\n",
    "    - str2 = \"apples\"\n",
    "    - Expected Output: 1\n",
    "- Case 3: <br>\n",
    "    - str1 = \"abc\"\n",
    "    - str2 = \"xyz\"\n",
    "    - Expected Output: 3\n",
    "- Case 4: <br>\n",
    "    - str1 = \"kitten\"\n",
    "    - str2 = \"sitting\"\n",
    "    - Expected Output: 3"
   ]
  },
  {
   "cell_type": "code",
   "execution_count": 5,
   "id": "7f8fcf33",
   "metadata": {},
   "outputs": [],
   "source": [
    "import numpy as np"
   ]
  },
  {
   "cell_type": "code",
   "execution_count": 8,
   "id": "d341b436",
   "metadata": {},
   "outputs": [
    {
     "name": "stdout",
     "output_type": "stream",
     "text": [
      "The edit distance between 'leda' and 'deal' is 3\n"
     ]
    }
   ],
   "source": [
    "def levenshtein_distance(str1, str2):\n",
    "    len1, len2 = len(str1),len(str2)\n",
    "    mat = np.zeros((len1+1,len2+1), dtype = int)\n",
    "    for i in range(0, len1+1):\n",
    "        mat[i][0] = i\n",
    "    for j in range(0, len2+1):\n",
    "        mat[0][j] = j\n",
    "    for i in range(1, len1+1):\n",
    "        for j in range(1, (len2+1)):\n",
    "            if str1[i-1] == str2[j-1]:\n",
    "                mat[i][j] = mat[i-1][j-1]\n",
    "            else:\n",
    "                mat[i][j] = 1+min(mat[i-1][j-1], mat[i][j-1], mat[i-1][j])\n",
    "        # print(f\"Matrix after {i}th iteration: {mat}\")\n",
    "            \n",
    "    \n",
    "    return mat[len1][len2]\n",
    "str1 = \"leda\"\n",
    "str2 = \"deal\"\n",
    "distance = levenshtein_distance(str1.lower(), str2.lower())\n",
    "print(f\"The edit distance between '{str1}' and '{str2}' is {distance}\")"
   ]
  },
  {
   "cell_type": "code",
   "execution_count": null,
   "id": "3c327186",
   "metadata": {},
   "outputs": [
    {
     "name": "stdout",
     "output_type": "stream",
     "text": [
      "levenshtein_distance('apple', 'apple') = 0 | Expected: 0 | True\n",
      "levenshtein_distance('apple', 'apples') = 1 | Expected: 1 | True\n",
      "levenshtein_distance('abc', 'xyz') = 3 | Expected: 3 | True\n",
      "levenshtein_distance('kitten', 'sitting') = 3 | Expected: 3 | True\n"
     ]
    }
   ],
   "source": [
    "test_cases = [\n",
    "    (\"apple\", \"apple\", 0),\n",
    "    (\"apple\", \"apples\", 1),\n",
    "    (\"abc\", \"xyz\", 3),\n",
    "    (\"kitten\", \"sitting\", 3),\n",
    "]\n",
    "for s1, s2, expected in test_cases:\n",
    "    result = levenshtein_distance(s1, s2)\n",
    "    print(f\"levenshtein_distance('{s1}', '{s2}') = {result} | Expected: {expected} | {True if result == expected else False}\")"
   ]
  },
  {
   "cell_type": "markdown",
   "id": "9e5bd07a",
   "metadata": {},
   "source": [
    "**Question 3. Implement Sequence Alignment<br>**\n",
    "Write a program to align the given sequence of input text A and B<br><br>\n",
    "<u>Program Description: </u><br>\n",
    "Global alignment is a fundamental concept in bioinformatics and string comparison, used to align two sequences (e.g., DNA, RNA, protein, or text strings) from start to end in their entirety. The goal is to find the best possible match between the two sequences over their full length, even if that requires inserting gaps.\n"
   ]
  },
  {
   "cell_type": "markdown",
   "id": "7fd230ea",
   "metadata": {},
   "source": [
    "<u>Program Logic:</u>  \n",
    "- Libraries used: `numpy`  \n",
    "\n",
    "- Flow of the program:\n",
    "  - Create a matrix (`mat`) to store alignment scores using `numpy.zeros`.\n",
    "  - Initialize the **first row** and **first column** of the matrix with cumulative gap penalties (−2 per gap).\n",
    "  - Iterate through the matrix and compute scores for each cell based on:\n",
    "    - Diagonal move (match/mismatch):  \n",
    "      - Add `+1` if characters match,  \n",
    "      - Subtract `1` if characters mismatch.\n",
    "    - Top move (gap in `seq2`): subtract `2`  \n",
    "    - Left move (gap in `seq1`)**: subtract `2`\n",
    "    - Assign the maximum of these three values to the current cell.\n",
    "  - After the matrix is filled, backtrack from the bottom-right to the top-left:\n",
    "    - If characters match or mismatch, take diagonal.\n",
    "    - If current cell came from top, insert gap in `seq2`.\n",
    "    - If from left, insert gap in `seq1`.\n",
    "  - Handle any remaining characters in `seq1` or `seq2` by aligning them with gaps.\n",
    "  - Return the two aligned sequences (`res1`, `res2`) with inserted gaps where needed.\n"
   ]
  },
  {
   "cell_type": "markdown",
   "id": "dc7317f2",
   "metadata": {},
   "source": [
    "Test Cases<br>\n",
    "\n",
    "- Case 1: <br>\n",
    "  - seq1 = \"ACTG\"  \n",
    "  - seq2 = \"ACTG\"  \n",
    "  - Expected Output:  \n",
    "    ACTG  \n",
    "    ACTG  \n",
    "\n",
    "- Case 2: <br>\n",
    "  - seq1 = \"ACG\"  \n",
    "  - seq2 = \"ACTG\"  \n",
    "  - Expected Output:  \n",
    "    A-CG  \n",
    "    ACTG  \n",
    "\n",
    "- Case 3: <br>\n",
    "  - seq1 = \"ACTG\"  \n",
    "  - seq2 = \"ACG\"  \n",
    "  - Expected Output:  \n",
    "    ACTG  \n",
    "    A-CG  \n",
    "\n",
    "- Case 4: <br>\n",
    "  - seq1 = \"AAA\"  \n",
    "  - seq2 = \"TTT\"  \n",
    "  - Expected Output:  \n",
    "    AAA  \n",
    "    TTT  \n",
    "\n",
    "- Case 5: <br>\n",
    "  - seq1 = \"\"  \n",
    "  - seq2 = \"ACTG\"  \n",
    "  - Expected Output:   \n",
    "    ACTG  \n",
    "\n",
    "- Case 6: <br>\n",
    "  - seq1 = \"GATTACA\"  \n",
    "  - seq2 = \"TACTAGA\"  \n",
    "  - Expected Output:  \n",
    "    GATTACA  \n",
    "    TACTAGA  \n",
    "\n",
    "- Case 7: <br>\n",
    "  - seq1 = \"AGGCTATCACCTGACCTCCAGGCCGATGCCC\"  \n",
    "  - seq2 = \"TAGCTATCACGACCGCGGTCGATTTGCCCGAC\"  \n",
    "  - Expected Output:  \n",
    "    -AGGCTATCACCTGACCTCCAGGCCGA--TGCCC---<br>\n",
    "    TAG-CTATCAC--GACCGC--GGTCGATTTGCCCGAC\n"
   ]
  },
  {
   "cell_type": "code",
   "execution_count": null,
   "id": "f3270c89",
   "metadata": {},
   "outputs": [
    {
     "name": "stdout",
     "output_type": "stream",
     "text": [
      "The Sequence alignment for AGGCTATCACCTGACCTCCAGGCCGATGCCC and TAGCTATCACGACCGCGGTCGATTTGCCCGAC are:\n",
      " AGGCTATCACCTGACCTCCAGGCCGA--TG-CC--C, TAGCTATCA-C-GACC-GC-GGTCGATTTGCCCGAC\n"
     ]
    }
   ],
   "source": [
    "def alignment(seq1, seq2):\n",
    "    len1, len2 = len(seq1), len(seq2)\n",
    "    mat = np.zeros((len1+1, len2+1), dtype=int)\n",
    "    for i in range(1, len1+1):\n",
    "        mat[i][0] = mat[i-1][0]-2\n",
    "    for j in range(1, len2+1):        \n",
    "        mat[0][j] = mat[0][j-1]-2\n",
    "\n",
    "    for i in range(1, len1+1):\n",
    "        for j in range(1, (len2+1)):\n",
    "            top_value = mat[i-1][j]-2\n",
    "            left_value = mat[i][j-1]-2\n",
    "            diag_value = mat[i-1][j-1]\n",
    "            if seq1[i-1] == seq2[j-1]:\n",
    "                diag_value += 1\n",
    "            else:\n",
    "                diag_value -= 1\n",
    "            mat[i][j] = max(top_value, left_value, diag_value)\n",
    "    res1 = \"\"\n",
    "    res2 = \"\"\n",
    "    match=1\n",
    "    mismatch=-1\n",
    "    gap=-2\n",
    "    i, j = len1, len2\n",
    "    while i > 0 and j > 0:\n",
    "        if seq1[i - 1] == seq2[j - 1]:\n",
    "            score_diag = match\n",
    "        else:\n",
    "            score_diag = mismatch\n",
    "\n",
    "        if mat[i][j] == mat[i - 1][j - 1] + score_diag:\n",
    "            res1 = seq1[i - 1] + res1\n",
    "            res2 = seq2[j - 1] + res2\n",
    "            i -= 1\n",
    "            j -= 1\n",
    "        elif mat[i][j] == mat[i - 1][j] + gap:\n",
    "            res1 = seq1[i - 1] + res1\n",
    "            res2 = \"-\" + res2\n",
    "            i -= 1\n",
    "        else:\n",
    "            res1 = \"-\" + res1\n",
    "            res2 = seq2[j - 1] + res2\n",
    "            j -= 1\n",
    "\n",
    "    # Finish remaining\n",
    "    while i > 0:\n",
    "        res1 = seq1[i - 1] + res1\n",
    "        res2 = \"-\" + res2\n",
    "        i -= 1\n",
    "\n",
    "    while j > 0:\n",
    "        res1 = \"-\" + res1\n",
    "        res2 = seq2[j - 1] + res2\n",
    "        j -= 1\n",
    "\n",
    "    return res1, res2\n",
    "seq1 = \"AGGCTATCACCTGACCTCCAGGCCGATGCCC\"\n",
    "seq2 = \"TAGCTATCACGACCGCGGTCGATTTGCCCGAC\"\n",
    "\n",
    "result1, result2 = alignment(seq1, seq2)\n",
    "print(f\"The Sequence alignment for {seq1} and {seq2} are:\\n {result1}, {result2}\")"
   ]
  },
  {
   "cell_type": "code",
   "execution_count": 13,
   "id": "94904750",
   "metadata": {},
   "outputs": [
    {
     "name": "stdout",
     "output_type": "stream",
     "text": [
      "Alignment for 'ACTG' and 'ACTG':\n",
      "ACTG\n",
      "ACTG\n",
      "----------------------------------------\n",
      "Alignment for 'ACTG' and 'ACCG':\n",
      "ACTG\n",
      "ACCG\n",
      "----------------------------------------\n",
      "Alignment for 'ACG' and 'ACTG':\n",
      "AC-G\n",
      "ACTG\n",
      "----------------------------------------\n",
      "Alignment for 'ACTG' and 'ACG':\n",
      "ACTG\n",
      "AC-G\n",
      "----------------------------------------\n",
      "Alignment for 'AAA' and 'TTT':\n",
      "AAA\n",
      "TTT\n",
      "----------------------------------------\n",
      "Alignment for 'GATTACA' and 'TACTAGA':\n",
      "GATTACA\n",
      "TACTAGA\n",
      "----------------------------------------\n",
      "Alignment for '' and 'ACTG':\n",
      "----\n",
      "ACTG\n",
      "----------------------------------------\n",
      "Alignment for 'AGGCTATCACCTGACCTCCAGGCCGATGCCC' and 'TAGCTATCACGACCGCGGTCGATTTGCCCGAC':\n",
      "AGGCTATCACCTGACCTCCAGGCCGA--TG-CC--C\n",
      "TAGCTATCA-C-GACC-GC-GGTCGATTTGCCCGAC\n",
      "----------------------------------------\n"
     ]
    }
   ],
   "source": [
    "test_cases = [\n",
    "    (\"ACTG\", \"ACTG\"),\n",
    "    (\"ACTG\", \"ACCG\"),\n",
    "    (\"ACG\", \"ACTG\"),\n",
    "    (\"ACTG\", \"ACG\"),\n",
    "    (\"AAA\", \"TTT\"),\n",
    "    (\"GATTACA\", \"TACTAGA\"),\n",
    "    (\"\", \"ACTG\"),\n",
    "    (\"AGGCTATCACCTGACCTCCAGGCCGATGCCC\", \"TAGCTATCACGACCGCGGTCGATTTGCCCGAC\")\n",
    "]\n",
    "\n",
    "for s1, s2 in test_cases:\n",
    "    res1, res2 = alignment(s1, s2)\n",
    "    print(f\"Alignment for '{s1}' and '{s2}':\\n{res1}\\n{res2}\\n{'-'*40}\")\n"
   ]
  },
  {
   "cell_type": "code",
   "execution_count": null,
   "id": "b07d180e",
   "metadata": {},
   "outputs": [],
   "source": []
  }
 ],
 "metadata": {
  "kernelspec": {
   "display_name": "Python 3",
   "language": "python",
   "name": "python3"
  },
  "language_info": {
   "codemirror_mode": {
    "name": "ipython",
    "version": 3
   },
   "file_extension": ".py",
   "mimetype": "text/x-python",
   "name": "python",
   "nbconvert_exporter": "python",
   "pygments_lexer": "ipython3",
   "version": "3.10.4"
  }
 },
 "nbformat": 4,
 "nbformat_minor": 5
}
